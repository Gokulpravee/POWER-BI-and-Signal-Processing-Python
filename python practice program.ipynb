{
 "cells": [
  {
   "cell_type": "markdown",
   "id": "9c1ac87b",
   "metadata": {},
   "source": [
    "# Set Operations"
   ]
  },
  {
   "cell_type": "code",
   "execution_count": 20,
   "id": "c16aefd1",
   "metadata": {},
   "outputs": [
    {
     "name": "stdout",
     "output_type": "stream",
     "text": [
      "{1, 2, 3, 4, 5}\n",
      "{1, 2, 3, 4, 5, 6, 7}\n",
      "{4, 5}\n",
      "{1, 2, 3}\n",
      "{1, 2, 3, 6, 7}\n"
     ]
    }
   ],
   "source": [
    "#set is a collection of unordered elements, set is a mutable\n",
    "set1 = {1,2,3,4,5}\n",
    "print(set1)\n",
    "\n",
    "#union()\n",
    "set2 = {4,5,6,7}\n",
    "print(set1.union(set2))\n",
    "\n",
    "#intersection()\n",
    "print(set1.intersection(set2))\n",
    "\n",
    "#difference()\n",
    "print(set1.difference(set2))\n",
    "\n",
    "#symmetric_difference\n",
    "print(set1.symmetric_difference(set2))"
   ]
  },
  {
   "cell_type": "code",
   "execution_count": 1,
   "id": "b7cd6610",
   "metadata": {},
   "outputs": [
    {
     "data": {
      "text/plain": [
       "['a', 'b', 'g', 'h', 'q', 't', 'v']"
      ]
     },
     "execution_count": 1,
     "metadata": {},
     "output_type": "execute_result"
    }
   ],
   "source": [
    "#arrange alphabetical order strings or charcters\n",
    "a = ['b','g','q','t','v','a','h']\n",
    "list1 = sorted(a)\n",
    "list1"
   ]
  },
  {
   "cell_type": "code",
   "execution_count": 12,
   "id": "1c774b0a",
   "metadata": {},
   "outputs": [
    {
     "name": "stdout",
     "output_type": "stream",
     "text": [
      "['apple', 'banana', 'mango', 'orange', 'stawberry']\n"
     ]
    },
    {
     "data": {
      "text/plain": [
       "['stawberry', 'orange', 'mango', 'banana', 'apple']"
      ]
     },
     "execution_count": 12,
     "metadata": {},
     "output_type": "execute_result"
    }
   ],
   "source": [
    "list1 = ['banana','orange','stawberry','mango','apple']\n",
    "list2 = sorted(list1)\n",
    "print(list2)\n",
    "list2.sort(reverse=True)\n",
    "list2"
   ]
  },
  {
   "cell_type": "code",
   "execution_count": 1,
   "id": "aa748cb8",
   "metadata": {},
   "outputs": [
    {
     "data": {
      "text/plain": [
       "[0, 1, 3, 4, 5, 7, 9]"
      ]
     },
     "execution_count": 1,
     "metadata": {},
     "output_type": "execute_result"
    }
   ],
   "source": [
    "num = [4,7,9,5,0,3,1]\n",
    "num1 = sorted(num)\n",
    "num1"
   ]
  },
  {
   "cell_type": "code",
   "execution_count": 5,
   "id": "ec9a6f44",
   "metadata": {},
   "outputs": [
    {
     "data": {
      "text/plain": [
       "[9, 7, 5, 4, 3, 1, 0]"
      ]
     },
     "execution_count": 5,
     "metadata": {},
     "output_type": "execute_result"
    }
   ],
   "source": [
    "num1.sort(reverse=True)\n",
    "num1"
   ]
  },
  {
   "cell_type": "code",
   "execution_count": 2,
   "id": "330243b5",
   "metadata": {},
   "outputs": [
    {
     "name": "stdout",
     "output_type": "stream",
     "text": [
      "1\n",
      "2\n",
      "3\n",
      "4\n",
      "5\n",
      "6\n"
     ]
    }
   ],
   "source": [
    "for i in range(1,10):\n",
    "    print(i)\n",
    "    if i == 6:\n",
    "        break"
   ]
  },
  {
   "cell_type": "markdown",
   "id": "ef5469e6",
   "metadata": {},
   "source": [
    "# Odd or Even"
   ]
  },
  {
   "cell_type": "code",
   "execution_count": 1,
   "id": "21722e39",
   "metadata": {},
   "outputs": [
    {
     "name": "stdout",
     "output_type": "stream",
     "text": [
      "enter the number: 10\n",
      "odd number\n",
      "1\n",
      "3\n",
      "5\n",
      "7\n",
      "9\n",
      "even number\n",
      "2\n",
      "4\n",
      "6\n",
      "8\n",
      "10\n"
     ]
    }
   ],
   "source": [
    "n = int(input(\"enter the number: \"))\n",
    "print(\"odd number\")\n",
    "for i in range(1,n+1):\n",
    "    if i%2 != 0:\n",
    "        print(i)\n",
    "        \n",
    "print(\"even number\")\n",
    "for i in range(1,n+1):\n",
    "    if i%2 == 0:\n",
    "        print(i)"
   ]
  },
  {
   "cell_type": "code",
   "execution_count": 6,
   "id": "4fe26f20",
   "metadata": {},
   "outputs": [
    {
     "name": "stdout",
     "output_type": "stream",
     "text": [
      "[0, 2, 7, 8, 73, 87, 456, 536]\n"
     ]
    }
   ],
   "source": [
    "list1 = [456,8,536,7,2,73,87,0]\n",
    "print(sorted(list1))\n",
    "list1.sort(reverse=True)"
   ]
  },
  {
   "cell_type": "code",
   "execution_count": 18,
   "id": "a0f4a38e",
   "metadata": {},
   "outputs": [
    {
     "name": "stdout",
     "output_type": "stream",
     "text": [
      "1\n",
      "2\n",
      "3\n",
      "4\n",
      "5\n",
      "6\n",
      "7\n",
      "8\n",
      "9\n",
      "10\n"
     ]
    }
   ],
   "source": [
    "for i in range(1,10+1):\n",
    "    print(i)"
   ]
  },
  {
   "cell_type": "code",
   "execution_count": 22,
   "id": "297e8295",
   "metadata": {},
   "outputs": [
    {
     "name": "stdout",
     "output_type": "stream",
     "text": [
      "Enter the table:5\n",
      "Enter the limit:10\n",
      "1 * 5 = 5\n",
      "2 * 5 = 10\n",
      "3 * 5 = 15\n",
      "4 * 5 = 20\n",
      "5 * 5 = 25\n",
      "6 * 5 = 30\n",
      "7 * 5 = 35\n",
      "8 * 5 = 40\n",
      "9 * 5 = 45\n",
      "10 * 5 = 50\n"
     ]
    }
   ],
   "source": [
    "t = int(input(\"Enter the table:\"))\n",
    "n = int(input(\"Enter the limit:\"))\n",
    "for i in range(1,n+1):\n",
    "    print(i, \"*\", t, \"=\", i*t)"
   ]
  },
  {
   "cell_type": "code",
   "execution_count": 16,
   "id": "e4670849",
   "metadata": {},
   "outputs": [
    {
     "name": "stdout",
     "output_type": "stream",
     "text": [
      "Enter the number: 5\n",
      "1\n",
      "2\n",
      "3\n",
      "4\n",
      "5\n"
     ]
    }
   ],
   "source": [
    "n = int(input(\"Enter the number: \"))\n",
    "for i in range(1,n+1):\n",
    "    print(i)"
   ]
  },
  {
   "cell_type": "code",
   "execution_count": 26,
   "id": "28e3da4a",
   "metadata": {},
   "outputs": [
    {
     "name": "stdout",
     "output_type": "stream",
     "text": [
      "Enter the number:10\n",
      "Odd Number\n",
      "1\n",
      "3\n",
      "5\n",
      "7\n",
      "9\n",
      "Even Number\n",
      "2\n",
      "4\n",
      "6\n",
      "8\n",
      "10\n"
     ]
    }
   ],
   "source": [
    "#find odd number and even number \n",
    "n = int(input(\"Enter the number:\"))\n",
    "print(\"Odd Number\")\n",
    "for i in range(1,n+1):\n",
    "    if i%2!=0:\n",
    "        print(i)\n",
    "        \n",
    "print(\"Even Number\")\n",
    "for i in range(1,n+1):\n",
    "    if i%2==0:\n",
    "        print(i)"
   ]
  },
  {
   "cell_type": "code",
   "execution_count": 28,
   "id": "43231b24",
   "metadata": {},
   "outputs": [
    {
     "name": "stdout",
     "output_type": "stream",
     "text": [
      "Enter the number:5\n",
      "15\n"
     ]
    }
   ],
   "source": [
    "n = int(input(\"Enter the number:\"))\n",
    "sum = 0\n",
    "for i in range(1,n+1):\n",
    "    sum += i\n",
    "print(sum)"
   ]
  },
  {
   "cell_type": "code",
   "execution_count": 2,
   "id": "e916a402",
   "metadata": {},
   "outputs": [
    {
     "name": "stdout",
     "output_type": "stream",
     "text": [
      "False\n"
     ]
    }
   ],
   "source": [
    "i = 0\n",
    "if i == 1:\n",
    "    print('True')\n",
    "else:\n",
    "    print(\"False\")"
   ]
  },
  {
   "cell_type": "code",
   "execution_count": 3,
   "id": "c0cd069a",
   "metadata": {},
   "outputs": [
    {
     "name": "stdout",
     "output_type": "stream",
     "text": [
      "1\n",
      "2\n",
      "3\n",
      "4\n",
      "5\n",
      "6\n",
      "7\n",
      "8\n",
      "9\n"
     ]
    }
   ],
   "source": [
    "i = 1\n",
    "while i < 10:\n",
    "    print(i)\n",
    "    i += 1"
   ]
  },
  {
   "cell_type": "code",
   "execution_count": 4,
   "id": "23c91bda",
   "metadata": {},
   "outputs": [
    {
     "name": "stdout",
     "output_type": "stream",
     "text": [
      "*\n",
      "**\n",
      "***\n",
      "****\n",
      "*****\n"
     ]
    }
   ],
   "source": [
    "n = 5\n",
    "for i in range(1, n+1):\n",
    "    print(i * '*')"
   ]
  },
  {
   "cell_type": "code",
   "execution_count": 5,
   "id": "f19d806e",
   "metadata": {},
   "outputs": [
    {
     "name": "stdout",
     "output_type": "stream",
     "text": [
      "[1, 2, 4, 5]\n"
     ]
    }
   ],
   "source": [
    "my_list = [1,2,4]\n",
    "my_list.insert(3,5)\n",
    "print(my_list)"
   ]
  },
  {
   "cell_type": "code",
   "execution_count": 1,
   "id": "8ae18081",
   "metadata": {},
   "outputs": [
    {
     "name": "stdout",
     "output_type": "stream",
     "text": [
      "Enter the number of rows: 10\n",
      "         * \n",
      "        * * \n",
      "       * * * \n",
      "      * * * * \n",
      "     * * * * * \n",
      "    * * * * * * \n",
      "   * * * * * * * \n",
      "  * * * * * * * * \n",
      " * * * * * * * * * \n",
      "* * * * * * * * * * \n"
     ]
    }
   ],
   "source": [
    "rows = int(input(\"Enter the number of rows: \"))\n",
    "for i in range(0,rows):\n",
    "    for j in range(0,rows -i -1):\n",
    "        print(end = \" \")\n",
    "    for k in range(0,i+1):\n",
    "        print(\"*\", end =\" \")\n",
    "    print()"
   ]
  },
  {
   "cell_type": "markdown",
   "id": "d10942a0",
   "metadata": {},
   "source": [
    "# Class"
   ]
  },
  {
   "cell_type": "code",
   "execution_count": 2,
   "id": "b57edccd",
   "metadata": {},
   "outputs": [],
   "source": [
    "class Person:\n",
    "    def __init__(self,name,spouse,age):\n",
    "        self.name = name\n",
    "        self.spouse = spouse\n",
    "        self.age = age\n",
    "        \n",
    "    def say_hello(self):\n",
    "        print(f\"hello my name is {self.name} and my spouse name is {self.spouse} and i am {self.age} years of old.\")"
   ]
  },
  {
   "cell_type": "markdown",
   "id": "84ff8e33",
   "metadata": {},
   "source": [
    "# Object"
   ]
  },
  {
   "cell_type": "code",
   "execution_count": 3,
   "id": "f1c7608b",
   "metadata": {},
   "outputs": [],
   "source": [
    "person1 = Person(\"praveen\",\"Laxmi\",20)"
   ]
  },
  {
   "cell_type": "code",
   "execution_count": 4,
   "id": "4c52e770",
   "metadata": {},
   "outputs": [
    {
     "name": "stdout",
     "output_type": "stream",
     "text": [
      "hello my name is praveen and my spouse name is Laxmi and i am 20 years of old.\n"
     ]
    }
   ],
   "source": [
    "# print(person1.name)\n",
    "# print(person1.age)\n",
    "person1.say_hello()"
   ]
  },
  {
   "cell_type": "code",
   "execution_count": 9,
   "id": "870ce1fe",
   "metadata": {},
   "outputs": [],
   "source": [
    "class Student(Person):\n",
    "    def __init__(self,name,age,student_id):\n",
    "        super().__init__(name,age)\n",
    "        self.student_id = student_id\n",
    "        \n",
    "    def say_hello(self):\n",
    "        print(f\"Hello, my name is {self.name}, i am {self.age} years of old, my student id id {self.student_id}.\")"
   ]
  },
  {
   "cell_type": "code",
   "execution_count": 10,
   "id": "cdeb6849",
   "metadata": {},
   "outputs": [
    {
     "name": "stdout",
     "output_type": "stream",
     "text": [
      "Hello, my name is Alice, i am 20 years of old, my student id id 20833.\n"
     ]
    }
   ],
   "source": [
    "student1 = Student(\"Alice\", 20, 20833)\n",
    "# print(student1.name)\n",
    "# print(student1.age)\n",
    "# print(student1.student_id)\n",
    "student1.say_hello()"
   ]
  },
  {
   "cell_type": "code",
   "execution_count": 11,
   "id": "a805a696",
   "metadata": {},
   "outputs": [
    {
     "name": "stdout",
     "output_type": "stream",
     "text": [
      "3\n",
      "11\n"
     ]
    }
   ],
   "source": [
    "class Calculator:\n",
    "    def add(self,x,y,z=0):\n",
    "        return x + y + z  \n",
    "    \n",
    "cal = Calculator()\n",
    "print(cal.add(1,2))\n",
    "print(cal.add(1,4,6))"
   ]
  },
  {
   "cell_type": "code",
   "execution_count": 5,
   "id": "b43d1469",
   "metadata": {},
   "outputs": [
    {
     "name": "stdout",
     "output_type": "stream",
     "text": [
      "fail\n"
     ]
    }
   ],
   "source": [
    "score = 69\n",
    "if score >= 90:\n",
    "    print('A grade')\n",
    "elif score >= 85:\n",
    "    print('B grade')\n",
    "elif score >= 70:\n",
    "    print('C grade')\n",
    "else:\n",
    "    print('fail')"
   ]
  },
  {
   "cell_type": "markdown",
   "id": "00a675e0",
   "metadata": {},
   "source": [
    "# Exception Handling"
   ]
  },
  {
   "cell_type": "code",
   "execution_count": 5,
   "id": "628356af",
   "metadata": {},
   "outputs": [
    {
     "name": "stdout",
     "output_type": "stream",
     "text": [
      "Enter a number:1\n",
      "Enter Another number:0\n",
      "can not divide by zero\n"
     ]
    }
   ],
   "source": [
    "try:\n",
    "    num1 = int(input('Enter a number:'))\n",
    "    num2 = int(input('Enter Another number:'))\n",
    "    result = num1/num2\n",
    "    print('the result is', result)\n",
    "except ZeroDivisionError:\n",
    "    print('can not divide by zero')\n",
    "except ValueError:\n",
    "    print('enter valid number')"
   ]
  },
  {
   "cell_type": "code",
   "execution_count": 14,
   "id": "eb31b2e2",
   "metadata": {},
   "outputs": [
    {
     "name": "stdout",
     "output_type": "stream",
     "text": [
      "{'l': 1, 'a': 6, 'v': 1, 'n': 3, 'y': 1, ' ': 1, 'r': 2, 'm': 1, 'k': 1, 'i': 1, 's': 1, 'h': 1}\n"
     ]
    }
   ],
   "source": [
    "string = \"lavanya ramakrishnan\"\n",
    "dicty = {}\n",
    "for i in string:\n",
    "    if i in dicty:\n",
    "        dicty[i] += 1\n",
    "    else:\n",
    "        dicty[i] = 1\n",
    "print(dicty)"
   ]
  },
  {
   "cell_type": "code",
   "execution_count": 16,
   "id": "b0c395b7",
   "metadata": {},
   "outputs": [
    {
     "name": "stdout",
     "output_type": "stream",
     "text": [
      "{'g': 1, 'o': 1, 'k': 1, 'u': 1, 'l': 1}\n"
     ]
    }
   ],
   "source": [
    "string = \"gokul\"\n",
    "dicty = {}\n",
    "for i in string:\n",
    "    if i in dicty:\n",
    "        dicty[i] += 1\n",
    "    else:\n",
    "        dicty[i] = 1\n",
    "print(dicty)"
   ]
  },
  {
   "cell_type": "code",
   "execution_count": 9,
   "id": "7ae26912",
   "metadata": {},
   "outputs": [
    {
     "data": {
      "text/plain": [
       "['salesforcevirtual']"
      ]
     },
     "execution_count": 9,
     "metadata": {},
     "output_type": "execute_result"
    }
   ],
   "source": [
    "string = [\"salesforcevirtual\"]\n",
    "list = []\n",
    "list1 = len(string)\n",
    "for i in range(0,1):\n",
    "    list.append(string[i])\n"
   ]
  },
  {
   "cell_type": "code",
   "execution_count": 2,
   "id": "dc2dab02",
   "metadata": {},
   "outputs": [],
   "source": [
    "class Person:\n",
    "    def __init__(self,name,age):\n",
    "        self.name = name \n",
    "        self.age = age\n",
    "        \n",
    "    def say_hello(self):\n",
    "        print(f\"hello my name is {self.name} and i am {self.age} years of old\")"
   ]
  },
  {
   "cell_type": "code",
   "execution_count": 4,
   "id": "e735e061",
   "metadata": {},
   "outputs": [],
   "source": [
    "Person1 = Person(\"gokul\",21)"
   ]
  },
  {
   "cell_type": "code",
   "execution_count": 7,
   "id": "b9f063e9",
   "metadata": {},
   "outputs": [
    {
     "name": "stdout",
     "output_type": "stream",
     "text": [
      "hello my name is gokul and i am 21 years of old\n"
     ]
    }
   ],
   "source": [
    "Person1.say_hello()"
   ]
  },
  {
   "cell_type": "code",
   "execution_count": 16,
   "id": "ffbce949",
   "metadata": {},
   "outputs": [],
   "source": [
    "class Student(Person):\n",
    "    def __init__(self,name,age,student_id):\n",
    "        super().__init__(name,age)\n",
    "        self.student_id = student_id\n",
    "        \n",
    "    def say_hello(self):\n",
    "        print(f\"hello my name is {self.age} and i am {self.age} years of old this my {self.student_id} number\")"
   ]
  },
  {
   "cell_type": "code",
   "execution_count": 17,
   "id": "6decead8",
   "metadata": {},
   "outputs": [
    {
     "name": "stdout",
     "output_type": "stream",
     "text": [
      "hello my name is 21 and i am 21 years of old this my 2621 number\n"
     ]
    }
   ],
   "source": [
    "student1 = Student(\"gokul\",21,2621)\n",
    "student1.say_hello()"
   ]
  },
  {
   "cell_type": "markdown",
   "id": "94921141",
   "metadata": {},
   "source": [
    "# Class and Object"
   ]
  },
  {
   "cell_type": "code",
   "execution_count": 5,
   "id": "0fedb77d",
   "metadata": {},
   "outputs": [
    {
     "name": "stdout",
     "output_type": "stream",
     "text": [
      "hello world\n",
      "100\n"
     ]
    }
   ],
   "source": [
    "#what is class and objects it is a collection of variables and functions\n",
    "#class and members-->varibales and functions\n",
    "class MyClass:\n",
    "    a = 100 #--->variable\n",
    "    def function(self): #-->function\n",
    "        print(\"hello world\")\n",
    "object = MyClass()\n",
    "object.function()\n",
    "print(object.a)\n"
   ]
  },
  {
   "cell_type": "code",
   "execution_count": 12,
   "id": "52380f3d",
   "metadata": {},
   "outputs": [
    {
     "name": "stdout",
     "output_type": "stream",
     "text": [
      "This is class and object\n",
      "Number: 120\n"
     ]
    }
   ],
   "source": [
    "class MyClass:\n",
    "    a = 120\n",
    "    def MyFunction(self):\n",
    "        print(\"This is class and object\")\n",
    "        \n",
    "object = MyClass()\n",
    "object.MyFunction()\n",
    "number = object.a\n",
    "print(\"Number:\",number)\n",
    "# print(object.a)"
   ]
  },
  {
   "cell_type": "code",
   "execution_count": 14,
   "id": "072c758a",
   "metadata": {},
   "outputs": [
    {
     "name": "stdout",
     "output_type": "stream",
     "text": [
      "Welcome to python world\n"
     ]
    }
   ],
   "source": [
    "class MyClass:\n",
    "    def __init__(self):\n",
    "        print(\"Welcome to python world\")\n",
    "        \n",
    "object=MyClass()"
   ]
  },
  {
   "cell_type": "markdown",
   "id": "c375d086",
   "metadata": {},
   "source": [
    "# Constructor"
   ]
  },
  {
   "cell_type": "code",
   "execution_count": 18,
   "id": "3cd122ab",
   "metadata": {},
   "outputs": [
    {
     "name": "stdout",
     "output_type": "stream",
     "text": [
      "This is constructor\n",
      "This is user defind function\n"
     ]
    }
   ],
   "source": [
    "#what is constructor --> initiating the object or some values \n",
    "# we need not to call the contructor because it will call automatically\n",
    "class Constructor:\n",
    "    def __init__(self): #self is used for passing the arguments\n",
    "        print(\"This is constructor\")\n",
    "        \n",
    "    def function(self):\n",
    "        print(\"This is user defind function\")\n",
    "object = Constructor()\n",
    "object.function()"
   ]
  },
  {
   "cell_type": "code",
   "execution_count": 21,
   "id": "ce381a22",
   "metadata": {},
   "outputs": [
    {
     "name": "stdout",
     "output_type": "stream",
     "text": [
      "Name: Praveen\n",
      "Age: 19\n",
      "Location: Arakkonam\n"
     ]
    }
   ],
   "source": [
    "class MyConstructor:\n",
    "    def __init__(self,name,age,location):\n",
    "        self.name = name\n",
    "        self.age = age\n",
    "        self.location =  location\n",
    "    \n",
    "    def MyDetails(self):\n",
    "        print(\"Name:\",self.name)\n",
    "        print(\"Age:\",self.age)\n",
    "        print(\"Location:\",self.location)\n",
    "        \n",
    "object = MyConstructor(\"Praveen\",19,\"Arakkonam\")\n",
    "object.MyDetails()"
   ]
  },
  {
   "cell_type": "code",
   "execution_count": 25,
   "id": "fea2843c",
   "metadata": {},
   "outputs": [
    {
     "name": "stdout",
     "output_type": "stream",
     "text": [
      "Sum: 50\n"
     ]
    }
   ],
   "source": [
    "class Addition:\n",
    "    def __init__(self,a,b):\n",
    "        self.a = a\n",
    "        self.b = b\n",
    "        \n",
    "    def add(self):\n",
    "        c = self.a + self.b\n",
    "        print(\"Sum:\",c)\n",
    "        \n",
    "object = Addition(10,40)\n",
    "object.add()"
   ]
  },
  {
   "cell_type": "markdown",
   "id": "d63c8139",
   "metadata": {},
   "source": [
    "# Function overloading"
   ]
  },
  {
   "cell_type": "code",
   "execution_count": 31,
   "id": "a2f01453",
   "metadata": {},
   "outputs": [
    {
     "name": "stdout",
     "output_type": "stream",
     "text": [
      "Addition: 80\n"
     ]
    }
   ],
   "source": [
    "#function oveloading or method overloading is ability of create multiple function on same name with diff implemetations\n",
    "class Overloading:\n",
    "    def Myfun(self,a=None,b=None,c=None):\n",
    "        if a!=None and b!=None and c!=None:\n",
    "            return a+b+c\n",
    "        \n",
    "        elif a!=None and b!=None:\n",
    "            return a+b\n",
    "        \n",
    "        else:\n",
    "            return a\n",
    "        \n",
    "object = Overloading()\n",
    "print(\"Addition:\",object.Myfun(10,36,34))\n",
    "        \n",
    "        "
   ]
  },
  {
   "cell_type": "code",
   "execution_count": 35,
   "id": "01e8a302",
   "metadata": {},
   "outputs": [
    {
     "name": "stdout",
     "output_type": "stream",
     "text": [
      "Sum: 341\n"
     ]
    }
   ],
   "source": [
    "#in function overloading if we wanna pass multiple arguments we have to use *args function\n",
    "class Overloading:\n",
    "    def fun(self,*args):\n",
    "        sum = 0\n",
    "        for i in args:\n",
    "            sum += i\n",
    "        print(\"Sum:\",sum)\n",
    "            \n",
    "object = Overloading()\n",
    "object.fun(56,56,54,20,89,66)"
   ]
  },
  {
   "cell_type": "markdown",
   "id": "4c846085",
   "metadata": {},
   "source": [
    "# Method or function overriding"
   ]
  },
  {
   "cell_type": "code",
   "execution_count": 7,
   "id": "c0a0eea1",
   "metadata": {},
   "outputs": [
    {
     "name": "stdout",
     "output_type": "stream",
     "text": [
      "Car management system\n",
      "Accounting managements system\n",
      "Airport management system\n"
     ]
    }
   ],
   "source": [
    "class sam:\n",
    "    def project(self):\n",
    "        print(\"Car management system\")\n",
    "        \n",
    "class ram(sam):\n",
    "    def project(self):\n",
    "        super().project()\n",
    "        print(\"Accounting managements system\")\n",
    "        \n",
    "class gokul(ram):\n",
    "    def project(self):\n",
    "        super().project()\n",
    "        print(\"Airport management system\")\n",
    "        \n",
    "object = gokul()\n",
    "object.project()"
   ]
  },
  {
   "cell_type": "markdown",
   "id": "c51ff2c6",
   "metadata": {},
   "source": [
    "\n",
    "\n",
    "# Polymorphism"
   ]
  },
  {
   "cell_type": "code",
   "execution_count": null,
   "id": "9fded9d6",
   "metadata": {},
   "outputs": [],
   "source": [
    "#polymorphism having same function but working with diff diff arguments\n"
   ]
  },
  {
   "cell_type": "markdown",
   "id": "eac9a7b3",
   "metadata": {},
   "source": [
    "# Nested if condition"
   ]
  },
  {
   "cell_type": "code",
   "execution_count": 15,
   "id": "cacb95d6",
   "metadata": {},
   "outputs": [
    {
     "ename": "SyntaxError",
     "evalue": "EOL while scanning string literal (28452612.py, line 11)",
     "output_type": "error",
     "traceback": [
      "\u001b[1;36m  Input \u001b[1;32mIn [15]\u001b[1;36m\u001b[0m\n\u001b[1;33m    \"\"\"\"\u001b[0m\n\u001b[1;37m        \n^\u001b[0m\n\u001b[1;31mSyntaxError\u001b[0m\u001b[1;31m:\u001b[0m EOL while scanning string literal\n"
     ]
    }
   ],
   "source": [
    "\"\"\"\"\n",
    "if(condition):\n",
    "   if(condition):\n",
    "     statement-1\n",
    "     \n",
    "   else:\n",
    "       statement-2\n",
    "        \n",
    "else:\n",
    "    statement-3 \n",
    "\"\"\"\""
   ]
  },
  {
   "cell_type": "code",
   "execution_count": 3,
   "id": "98bf47a1",
   "metadata": {},
   "outputs": [
    {
     "name": "stdout",
     "output_type": "stream",
     "text": [
      "Enter A values: 5\n",
      "Enter B value: 6\n",
      "A value in not equal to B value\n",
      "B is grater than A\n"
     ]
    }
   ],
   "source": [
    "def state():\n",
    "    a = int(input(\"Enter A values: \"))\n",
    "    b = int(input(\"Enter B value: \"))\n",
    "    if a!=b:\n",
    "        print(\"A value in not equal to B value\")\n",
    "        if a>b:\n",
    "            print(\"A is grater than B\")\n",
    "        else:\n",
    "            print(\"B is grater than A\")\n",
    "    else:\n",
    "        print(\"A value is equla to B value\")\n",
    "state()"
   ]
  },
  {
   "cell_type": "markdown",
   "id": "6f96193d",
   "metadata": {},
   "source": [
    "# Stack"
   ]
  },
  {
   "cell_type": "code",
   "execution_count": 21,
   "id": "68aecce5",
   "metadata": {},
   "outputs": [
    {
     "name": "stdout",
     "output_type": "stream",
     "text": [
      "stack is empty\n",
      "stack\n",
      "The poped elements are:  3 2 1\n",
      "stack is empty\n"
     ]
    }
   ],
   "source": [
    "stack = []\n",
    "\n",
    "def empty():\n",
    "    if len(stack) == 0:\n",
    "        print('stack is empty')\n",
    "    else:\n",
    "        print('stack')\n",
    "        \n",
    "val1 = 1\n",
    "val2 = 2\n",
    "val3 = 3\n",
    "empty()\n",
    "stack.append(val1)\n",
    "stack.append(val2)\n",
    "stack.append(val3)\n",
    "empty()\n",
    "a = stack.pop()\n",
    "b = stack.pop()\n",
    "c = stack.pop()\n",
    "print('The poped elements are: ',a,b,c)\n",
    "empty()\n"
   ]
  },
  {
   "cell_type": "code",
   "execution_count": 4,
   "id": "55436ffd",
   "metadata": {},
   "outputs": [
    {
     "name": "stdout",
     "output_type": "stream",
     "text": [
      "['sunday', 'monday', 'tuesday', 'wednesday', 'thursday', 'friday', 'saturday']\n",
      "['sunday']\n",
      "['sunday', 'monday']\n",
      "['sunday', 'monday', 'tuesday']\n",
      "['sunday', 'monday', 'tuesday', 'wednesday']\n",
      "['sunday', 'monday', 'tuesday', 'wednesday', 'thursday']\n",
      "['sunday', 'monday', 'tuesday', 'wednesday', 'thursday', 'friday']\n",
      "['sunday', 'monday', 'tuesday', 'wednesday', 'thursday', 'friday', 'saturday']\n",
      "['sunday', 'monday', 'tuesday', 'wednesday', 'thursday', 'friday']\n",
      "['sunday', 'monday', 'tuesday', 'wednesday', 'thursday']\n",
      "['sunday', 'monday', 'tuesday', 'wednesday']\n",
      "['sunday', 'monday', 'tuesday']\n",
      "['sunday', 'monday']\n",
      "['sunday']\n",
      "[]\n"
     ]
    }
   ],
   "source": [
    "my_list = ['sunday','monday','tuesday','wednesday','thursday','friday','saturday']\n",
    "my_stack = []\n",
    "print(my_list)\n",
    "\n",
    "#adding elements in stack\n",
    "for i in range(0,len(my_list)):\n",
    "    my_stack.append(my_list[i])\n",
    "    print(my_stack)\n",
    "    \n",
    "#removing elements from stack\n",
    "for i in range(0,len(my_list)):\n",
    "    my_stack.pop()\n",
    "    print(my_stack)"
   ]
  },
  {
   "cell_type": "code",
   "execution_count": 7,
   "id": "0e80e5a5",
   "metadata": {},
   "outputs": [
    {
     "data": {
      "text/plain": [
       "[1, 2, 3, 4, 5, 6, 7, 8, 9, 10]"
      ]
     },
     "execution_count": 7,
     "metadata": {},
     "output_type": "execute_result"
    }
   ],
   "source": [
    "my_stack = [1,2,3,4,5,6,7,8,9,20]\n",
    "def update(data, value):\n",
    "    for i in range(0,len(my_stack)):\n",
    "        if my_stack[i] == data:\n",
    "            my_stack[i] = value\n",
    "            return my_stack\n",
    "update(20,10)"
   ]
  },
  {
   "cell_type": "code",
   "execution_count": 24,
   "id": "ee76ac95",
   "metadata": {},
   "outputs": [
    {
     "name": "stdout",
     "output_type": "stream",
     "text": [
      "pass\n"
     ]
    }
   ],
   "source": [
    "x = 100\n",
    "y = 75\n",
    "if x>y:\n",
    "    print(\"pass\")\n",
    "else:\n",
    "    print(\"fail\")"
   ]
  },
  {
   "cell_type": "markdown",
   "id": "0cc2f0b6",
   "metadata": {},
   "source": [
    "# Tree Traversal"
   ]
  },
  {
   "cell_type": "code",
   "execution_count": 1,
   "id": "c9b27f0b",
   "metadata": {},
   "outputs": [],
   "source": [
    "#tree traversal \n",
    "#in oreder tree\n",
    "class Node:\n",
    "    def __init__(self,val):\n",
    "        self.childleft = None\n",
    "        self.childright = None\n",
    "        self.nodedata = val\n",
    "        \n",
    "root = Node(1)\n",
    "root.childleft = Node(2)\n",
    "root.childright = Node(3)\n",
    "root.childleft.childleft = Node(4)\n",
    "root.childleft.childright = Node(5)\n",
    "        "
   ]
  },
  {
   "cell_type": "markdown",
   "id": "a3d35e4b",
   "metadata": {},
   "source": [
    "# In Order Tree"
   ]
  },
  {
   "cell_type": "code",
   "execution_count": 2,
   "id": "5295f74e",
   "metadata": {},
   "outputs": [
    {
     "name": "stdout",
     "output_type": "stream",
     "text": [
      "4\n",
      "2\n",
      "5\n",
      "1\n",
      "3\n"
     ]
    }
   ],
   "source": [
    "def InOrd(root):\n",
    "    if root:\n",
    "        InOrd(root.childleft)\n",
    "        print(root.nodedata)\n",
    "        InOrd(root.childright)\n",
    "InOrd(root)"
   ]
  },
  {
   "cell_type": "markdown",
   "id": "1f64a1f5",
   "metadata": {},
   "source": [
    "# Pre Order Tree"
   ]
  },
  {
   "cell_type": "code",
   "execution_count": 35,
   "id": "a4ccb3df",
   "metadata": {},
   "outputs": [
    {
     "name": "stdout",
     "output_type": "stream",
     "text": [
      "1\n",
      "2\n",
      "4\n",
      "5\n",
      "3\n"
     ]
    }
   ],
   "source": [
    "#preorder tree\n",
    "def PreOrd(root):\n",
    "    if root:\n",
    "        print(root.nodedata)\n",
    "        PreOrd(root.childleft)\n",
    "        PreOrd(root.childright)\n",
    "PreOrd(root)"
   ]
  },
  {
   "cell_type": "markdown",
   "id": "e0af0d5a",
   "metadata": {},
   "source": [
    "# Post Order"
   ]
  },
  {
   "cell_type": "code",
   "execution_count": null,
   "id": "ca389cb2",
   "metadata": {},
   "outputs": [],
   "source": [
    "#post order traversal\n",
    "def PostOrd(root):\n",
    "    if root:\n",
    "        PostOrd(root.childleft)\n",
    "        PostOrd(root.childright)\n",
    "        print(root.nodedata)\n",
    "PostOrd(root)"
   ]
  },
  {
   "cell_type": "markdown",
   "id": "ca4542ef",
   "metadata": {},
   "source": [
    "# Linear search"
   ]
  },
  {
   "cell_type": "code",
   "execution_count": 39,
   "id": "70953d5a",
   "metadata": {},
   "outputs": [
    {
     "name": "stdout",
     "output_type": "stream",
     "text": [
      "key present in index no 2\n"
     ]
    }
   ],
   "source": [
    "#linear search\n",
    "def lin_search(myarray, n, key):\n",
    "    for i in range(0,n):\n",
    "        if(myarray[i] == key):\n",
    "            return i\n",
    "    return -i\n",
    "\n",
    "myarray = [12,56,26,67,27]\n",
    "key = 26\n",
    "n = len(myarray)\n",
    "matched = lin_search(myarray, n, key)\n",
    "if(matched == -1):\n",
    "    print(\"Key is not present\")\n",
    "else:\n",
    "    print(\"key present in index no\", matched)"
   ]
  },
  {
   "cell_type": "code",
   "execution_count": 2,
   "id": "261621cc",
   "metadata": {},
   "outputs": [
    {
     "name": "stdout",
     "output_type": "stream",
     "text": [
      "[0, 3]\n"
     ]
    }
   ],
   "source": [
    "def twoSum(nums, target):\n",
    "    seen = {}\n",
    "    for i, num in enumerate(nums):\n",
    "        complement = target - num\n",
    "        if complement in seen:\n",
    "            return [seen[complement], i]\n",
    "        seen[num] = i\n",
    "    return []\n",
    "\n",
    "nums = [2, 7, 11, 15]\n",
    "target = 17\n",
    "\n",
    "result = twoSum(nums, target)\n",
    "print(result)\n"
   ]
  },
  {
   "cell_type": "markdown",
   "id": "14bad9d2",
   "metadata": {},
   "source": [
    "# GRAPHS"
   ]
  },
  {
   "cell_type": "code",
   "execution_count": null,
   "id": "15c0f04f",
   "metadata": {},
   "outputs": [],
   "source": [
    "#graph is non linear data structure, it is hierarchical data that is consist nodes and edges\n",
    "#nodes contains vertex or data points\n",
    "#edges connect the nodes and vertices togeather "
   ]
  },
  {
   "cell_type": "code",
   "execution_count": 3,
   "id": "b5fbee97",
   "metadata": {},
   "outputs": [],
   "source": [
    "class Company:\n",
    "    def __init__(self,total,sold,instack):\n",
    "        self.total = total\n",
    "        self.sold = sold\n",
    "        self.instack = instack\n",
    "        \n",
    "    def details(self):\n",
    "        print(f'Totally {self.total} laptops, {self.sold} are sold, reminder {self.instack} are there')"
   ]
  },
  {
   "cell_type": "code",
   "execution_count": 4,
   "id": "3637878b",
   "metadata": {},
   "outputs": [
    {
     "name": "stdout",
     "output_type": "stream",
     "text": [
      "Totally 100 laptops, 60 are sold, reminder 40 are there\n"
     ]
    }
   ],
   "source": [
    "obj = Company(100,60,40)\n",
    "obj.details()"
   ]
  },
  {
   "cell_type": "code",
   "execution_count": 16,
   "id": "bdb5a29f",
   "metadata": {},
   "outputs": [
    {
     "name": "stdout",
     "output_type": "stream",
     "text": [
      "Hello World\n"
     ]
    }
   ],
   "source": [
    "def hello():\n",
    "    print(\"Hello World\")\n",
    "hello()"
   ]
  },
  {
   "cell_type": "code",
   "execution_count": 8,
   "id": "9012958f",
   "metadata": {},
   "outputs": [
    {
     "name": "stdout",
     "output_type": "stream",
     "text": [
      "Enter Number: 1\n",
      "False\n"
     ]
    }
   ],
   "source": [
    "def say_hello():\n",
    "    a = int(input(\"Enter Number: \"))\n",
    "    if a>2:\n",
    "        print(\"True\")\n",
    "    else:\n",
    "        print(\"False\")\n",
    "say_hello()"
   ]
  },
  {
   "cell_type": "code",
   "execution_count": 1,
   "id": "9aefe954",
   "metadata": {
    "scrolled": true
   },
   "outputs": [
    {
     "name": "stdout",
     "output_type": "stream",
     "text": [
      "Enter a number of rows: 6\n",
      "Pyramid Start Pattern\n",
      "     * \n",
      "    * * \n",
      "   * * * \n",
      "  * * * * \n",
      " * * * * * \n",
      "* * * * * * \n"
     ]
    }
   ],
   "source": [
    "rows = int(input(\"Enter a number of rows: \"))\n",
    "print(\"Pyramid Start Pattern\")\n",
    "for i in range(0, rows):\n",
    "    for j in range(0, rows -i -1):\n",
    "        print(end = \" \")\n",
    "    for k in range(0, i + 1):\n",
    "        print(\"*\", end = \" \")\n",
    "    print()"
   ]
  }
 ],
 "metadata": {
  "kernelspec": {
   "display_name": "Python 3 (ipykernel)",
   "language": "python",
   "name": "python3"
  },
  "language_info": {
   "codemirror_mode": {
    "name": "ipython",
    "version": 3
   },
   "file_extension": ".py",
   "mimetype": "text/x-python",
   "name": "python",
   "nbconvert_exporter": "python",
   "pygments_lexer": "ipython3",
   "version": "3.9.12"
  }
 },
 "nbformat": 4,
 "nbformat_minor": 5
}
